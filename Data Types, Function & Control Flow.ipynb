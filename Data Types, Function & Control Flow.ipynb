{
 "cells": [
  {
   "cell_type": "code",
   "execution_count": null,
   "id": "77f0c89d",
   "metadata": {},
   "outputs": [],
   "source": []
  },
  {
   "cell_type": "markdown",
   "id": "56e40cd4",
   "metadata": {},
   "source": [
    "## Exercise 1\n",
    "Let's be a string that contains a sequence of ONLY lower-case alphabetic characters (a-z), e.g.,\n",
    "\n",
    "s = 'abc'\n",
    "\n",
    "s = 'hhhappy'\n",
    "\n",
    "s = 'abcaaaaddccccc'\n",
    "\n",
    "Write a function called encrypt() that takes s as the input, encrypts s following this rule described below, then return the encrypted string as the function output.\n",
    "\n",
    "Encryption rule:\n",
    "\n",
    "'abc' -> 'abc'\n",
    "\n",
    "'hhhappy' -> 'h3ap2y'\n",
    "\n",
    "'abcaaaaddccccc' -> 'abca4d2c5'"
   ]
  },
  {
   "cell_type": "code",
   "execution_count": 1,
   "id": "9ec32cbd",
   "metadata": {},
   "outputs": [],
   "source": [
    "def encrypt(s):\n",
    "    count=1\n",
    "    result=''\n",
    "    current=s[0]\n",
    "    for i in range(1,len(s)):\n",
    "        if s[i] == current:\n",
    "            count+=1\n",
    "        else:\n",
    "            if count>1:\n",
    "                result=result+current+str(count)\n",
    "            else:\n",
    "                result=result+current\n",
    "            current=s[i]\n",
    "            count=1\n",
    "    if count>1:\n",
    "        result=result+current+str(count)\n",
    "    else:\n",
    "        result=result+current\n",
    "    return result"
   ]
  },
  {
   "cell_type": "code",
   "execution_count": 2,
   "id": "23a8900c",
   "metadata": {},
   "outputs": [
    {
     "data": {
      "text/plain": [
       "'h3ap2y'"
      ]
     },
     "execution_count": 2,
     "metadata": {},
     "output_type": "execute_result"
    }
   ],
   "source": [
    "encrypt('hhhappy') #expected output: 'h3ap2y'"
   ]
  },
  {
   "cell_type": "code",
   "execution_count": 3,
   "id": "ea86b862",
   "metadata": {},
   "outputs": [
    {
     "data": {
      "text/plain": [
       "'abca4d2c5'"
      ]
     },
     "execution_count": 3,
     "metadata": {},
     "output_type": "execute_result"
    }
   ],
   "source": [
    "encrypt('abcaaaaddccccc') #expected output: 'abca4d2c5'"
   ]
  },
  {
   "cell_type": "code",
   "execution_count": 4,
   "id": "277da4f1",
   "metadata": {},
   "outputs": [
    {
     "data": {
      "text/plain": [
       "'abc'"
      ]
     },
     "execution_count": 4,
     "metadata": {},
     "output_type": "execute_result"
    }
   ],
   "source": [
    "encrypt('abc') #expected output: 'abc'"
   ]
  },
  {
   "cell_type": "code",
   "execution_count": null,
   "id": "3b70ed72",
   "metadata": {},
   "outputs": [],
   "source": []
  },
  {
   "cell_type": "markdown",
   "id": "9de4c493",
   "metadata": {},
   "source": [
    "## Exercise 2\n",
    "A code (in digit) is written down in text and given to you as string s. For example, s = 'one two two five'. Write a function named text_to_digit() that takes s as an input, translates the each word in s to a digit, then return the digits as a number.\n",
    "\n",
    "The digits used in the code are from 0 (zero) to 9 (nine).\n",
    "\n",
    "Note: the use of dictionary is allowed, but NOT required. You do not need to use the dictionary data structure to do this exercise. Another note: Only built-in functions and keywords are allowed in this exercise."
   ]
  },
  {
   "cell_type": "code",
   "execution_count": 10,
   "id": "6a39a76d",
   "metadata": {},
   "outputs": [],
   "source": [
    "def text_to_digit(s):\n",
    "    # add your code here\n",
    "    out=''\n",
    "    for i in range(len(s.split())):\n",
    "        if s.split()[i] == 'one':\n",
    "            out+=str(1)\n",
    "        if s.split()[i] == 'two':\n",
    "            out+=str(2)\n",
    "        if 'three' in s.split()[i]:\n",
    "            out+=str(3)\n",
    "        if 'four' in s.split()[i]:\n",
    "            out+=str(4)\n",
    "        if 'five' in s.split()[i]:\n",
    "            out+=str(5)\n",
    "        if 'six' in s.split()[i]:\n",
    "            out+=str(6)\n",
    "        if 'seven' in s.split()[i]:\n",
    "            out+=str(7)\n",
    "        if 'eight' in s.split()[i]:\n",
    "            out+=str(8)\n",
    "        if 'nine' in s.split()[i]:\n",
    "            out+=str(9)\n",
    "        if 'zero' in s.split()[i]:\n",
    "            out+=str(0)\n",
    "    return int(out)"
   ]
  },
  {
   "cell_type": "code",
   "execution_count": 11,
   "id": "d569a1f3",
   "metadata": {},
   "outputs": [
    {
     "data": {
      "text/plain": [
       "1225"
      ]
     },
     "execution_count": 11,
     "metadata": {},
     "output_type": "execute_result"
    }
   ],
   "source": [
    "text_to_digit('one two two five') #expected output: 1225"
   ]
  },
  {
   "cell_type": "code",
   "execution_count": 12,
   "id": "ce07c29a",
   "metadata": {},
   "outputs": [
    {
     "data": {
      "text/plain": [
       "8056"
      ]
     },
     "execution_count": 12,
     "metadata": {},
     "output_type": "execute_result"
    }
   ],
   "source": [
    "text_to_digit('eight zero five six') #expected output: 8056"
   ]
  },
  {
   "cell_type": "code",
   "execution_count": 13,
   "id": "76a89658",
   "metadata": {},
   "outputs": [
    {
     "data": {
      "text/plain": [
       "14"
      ]
     },
     "execution_count": 13,
     "metadata": {},
     "output_type": "execute_result"
    }
   ],
   "source": [
    "text_to_digit('one four') #expected output: 14"
   ]
  },
  {
   "cell_type": "code",
   "execution_count": 14,
   "id": "947393da",
   "metadata": {},
   "outputs": [
    {
     "data": {
      "text/plain": [
       "939"
      ]
     },
     "execution_count": 14,
     "metadata": {},
     "output_type": "execute_result"
    }
   ],
   "source": [
    "text_to_digit('nine three nine') #expected output: 939"
   ]
  },
  {
   "cell_type": "code",
   "execution_count": null,
   "id": "8c9e16d1",
   "metadata": {},
   "outputs": [],
   "source": []
  }
 ],
 "metadata": {
  "kernelspec": {
   "display_name": "Python 3 (ipykernel)",
   "language": "python",
   "name": "python3"
  },
  "language_info": {
   "codemirror_mode": {
    "name": "ipython",
    "version": 3
   },
   "file_extension": ".py",
   "mimetype": "text/x-python",
   "name": "python",
   "nbconvert_exporter": "python",
   "pygments_lexer": "ipython3",
   "version": "3.8.12"
  }
 },
 "nbformat": 4,
 "nbformat_minor": 5
}
